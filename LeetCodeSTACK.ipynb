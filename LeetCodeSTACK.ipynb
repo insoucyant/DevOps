{
  "nbformat": 4,
  "nbformat_minor": 0,
  "metadata": {
    "colab": {
      "provenance": [],
      "authorship_tag": "ABX9TyNN+J3EEW1Vi8AnYdPg05mn",
      "include_colab_link": true
    },
    "kernelspec": {
      "name": "python3",
      "display_name": "Python 3"
    },
    "language_info": {
      "name": "python"
    }
  },
  "cells": [
    {
      "cell_type": "markdown",
      "metadata": {
        "id": "view-in-github",
        "colab_type": "text"
      },
      "source": [
        "<a href=\"https://colab.research.google.com/github/insoucyant/DevOps/blob/main/LeetCodeSTACK.ipynb\" target=\"_parent\"><img src=\"https://colab.research.google.com/assets/colab-badge.svg\" alt=\"Open In Colab\"/></a>"
      ]
    },
    {
      "cell_type": "markdown",
      "source": [
        "# 20 Valid Parentheses\n",
        "Given a string s containing just the characters '(', ')', '{', '}', '[' and ']', determine if the input string is valid.\n",
        "\n",
        "An input string is valid if:\n",
        "\n",
        "Open brackets must be closed by the same type of brackets.\n",
        "Open brackets must be closed in the correct order.\n",
        "Every close bracket has a corresponding open bracket of the same type.\n",
        "\n"
      ],
      "metadata": {
        "id": "H95KoL1QGVa3"
      }
    },
    {
      "cell_type": "code",
      "source": [
        "def isValid(s):\n",
        "  hashmap = {\n",
        "      ')': '(',\n",
        "      '}': '{',\n",
        "      ']':'['\n",
        "  }\n",
        "  # In Python the easiest way to build a stack is to build an empty list.\n",
        "  # We 'append'  when we want to put something on the top of the stack. Right is top. Left is bottom.\n",
        "  # We use 'pop' when we want to remove something from the top of the stack. Pop removes the right most value.\n",
        "  # We are appending to the right (top), we are removing from the right (top).\n",
        "  # LIFO!\n",
        "  stk = []\n",
        "\n",
        "  for c in s:\n",
        "    if c not in hashmap: # This is Open Bracket\n",
        "      stk.append(c)\n",
        "    else: # This is a closing bracket\n",
        "      if not stk: # Nothing in the stack and yet we have a closing bracket so invalid\n",
        "        return False\n",
        "      else:\n",
        "        popped = stk.pop() # LIFO\n",
        "        if hashmap[c] != popped: # Not the corresponding opening closing\n",
        "          return False\n",
        "  return not stk # Stack should be empty with no dangling opening bracket left\n",
        "s = \"()\"\n",
        "print(isValid(s))\n",
        "s = \"()[]{}\"\n",
        "print(isValid(s))\n",
        "s = \"(]\"\n",
        "print(isValid(s))\n",
        "s = \"([])\"\n",
        "print(isValid(s))"
      ],
      "metadata": {
        "colab": {
          "base_uri": "https://localhost:8080/"
        },
        "id": "TKxdg2WBGVqP",
        "outputId": "2212c109-15c2-40af-92ed-ea20f864d162"
      },
      "execution_count": 7,
      "outputs": [
        {
          "output_type": "stream",
          "name": "stdout",
          "text": [
            "True\n",
            "True\n",
            "False\n",
            "True\n"
          ]
        }
      ]
    },
    {
      "cell_type": "markdown",
      "source": [
        "# 682 Baseball Game\n",
        "You are keeping the scores for a baseball game with strange rules. At the beginning of the game, you start with an empty record.\n",
        "\n",
        "You are given a list of strings operations, where operations[i] is the ith operation you must apply to the record and is one of the following:\n",
        "\n",
        "An integer x.\n",
        "Record a new score of x.\n",
        "'+'.\n",
        "Record a new score that is the sum of the previous two scores.\n",
        "'D'.\n",
        "Record a new score that is the double of the previous score.\n",
        "'C'.\n",
        "Invalidate the previous score, removing it from the record.\n",
        "Return the sum of all the scores on the record after applying all the operations.\n",
        "\n",
        "The test cases are generated such that the answer and all intermediate calculations fit in a 32-bit integer and that all operations are valid."
      ],
      "metadata": {
        "id": "ykVgWAD6jDb1"
      }
    },
    {
      "cell_type": "code",
      "source": [
        "def calPoints(operations):\n",
        "  stk = []\n",
        "  for op in operations:\n",
        "    if op == '+':\n",
        "      stk.append(stk[-1] + stk[-2])\n",
        "    elif op == 'D':\n",
        "      stk.append(stk[-1]*2)\n",
        "    elif op == 'C':\n",
        "      stk.pop()\n",
        "    else:\n",
        "      stk.append(int(op))\n",
        "  return sum(stk)\n",
        "\n",
        "ops = [\"5\",\"2\",\"C\",\"D\",\"+\"]\n",
        "print(calPoints(ops))\n",
        "ops = [\"1\",\"C\"]\n",
        "print(calPoints(ops))"
      ],
      "metadata": {
        "colab": {
          "base_uri": "https://localhost:8080/"
        },
        "id": "qP9j1XGXIGci",
        "outputId": "874f4b56-1d69-44ab-a109-b509543de327"
      },
      "execution_count": 5,
      "outputs": [
        {
          "output_type": "stream",
          "name": "stdout",
          "text": [
            "30\n",
            "0\n"
          ]
        }
      ]
    },
    {
      "cell_type": "markdown",
      "source": [
        "# 739 Daily Temperature\n",
        "Given an array of integers temperatures represents the daily temperatures, return an array answer such that answer[i] is the number of days you have to wait after the ith day to get a warmer temperature. If there is no future day for which this is possible, keep answer[i] == 0 instead."
      ],
      "metadata": {
        "id": "A0OE4Qr3p5Kn"
      }
    },
    {
      "cell_type": "code",
      "source": [
        "def dailyTemperatures(temperatures):\n",
        "  n = len(temperatures)\n",
        "  result = [0]*n\n",
        "  stk = []\n",
        "  for i, t in enumerate(temperatures):\n",
        "    while stk and t > stk[-1][0]:\n",
        "      stk_t, stk_i = stk.pop()\n",
        "      result[stk_i] = i - stk_i\n",
        "    stk.append((t,i))\n",
        "  return result\n",
        "temperatures = [73,74,75,71,69,72,76,73]\n",
        "print(dailyTemperatures(temperatures))\n",
        "temperatures = [30,40,50,60]\n",
        "print(dailyTemperatures(temperatures))\n",
        "temperatures = [30,60,90]\n",
        "print(dailyTemperatures(temperatures))"
      ],
      "metadata": {
        "colab": {
          "base_uri": "https://localhost:8080/"
        },
        "id": "otN8xiUPlsJx",
        "outputId": "948aefe1-6d1c-4afd-9986-2d44b5d9059c"
      },
      "execution_count": 8,
      "outputs": [
        {
          "output_type": "stream",
          "name": "stdout",
          "text": [
            "[1, 1, 4, 2, 1, 1, 0, 0]\n",
            "[1, 1, 1, 0]\n",
            "[1, 1, 0]\n"
          ]
        }
      ]
    },
    {
      "cell_type": "markdown",
      "source": [
        "# 150 Reverse Polish Notation\n",
        "You are given an array of strings tokens that represents an arithmetic expression in a Reverse Polish Notation.\n",
        "\n",
        "Evaluate the expression. Return an integer that represents the value of the expression.\n",
        "\n",
        "Note that:\n",
        "\n",
        "* The valid operators are '+', '-', '*', and '/'.\n",
        "* Each operand may be an integer or another expression.\n",
        "* The division between two integers always truncates toward zero.\n",
        "* There will not be any division by zero.\n",
        "* The input represents a valid arithmetic expression in a reverse polish notation.\n",
        "* The answer and all the intermediate calculations can be represented in a 32-bit integer."
      ],
      "metadata": {
        "id": "kHpFh0XvTeZs"
      }
    },
    {
      "cell_type": "code",
      "source": [
        "from math import ceil, floor\n",
        "def evalRPN(tokens):\n",
        "  stk = [] # Dynamic Array\n",
        "  for t in tokens:\n",
        "    if t in '+-*/':\n",
        "      b,a = stk.pop(), stk.pop()\n",
        "      if t == '+':\n",
        "        stk.append(a+b)\n",
        "      elif t == '-':\n",
        "        stk.append(a-b)\n",
        "      elif t == '*':\n",
        "        stk.append(a*b)\n",
        "      else:\n",
        "        division = a/b\n",
        "        if division < 0:\n",
        "          stk.append(ceil(division))\n",
        "        else:\n",
        "          stk.append(floor(division))\n",
        "    else:\n",
        "      stk.append(int(t))\n",
        "\n",
        "  return stk[0]\n",
        "\n",
        "tokens = [\"2\",\"1\",\"+\",\"3\",\"*\"]\n",
        "print(evalRPN(tokens))\n",
        "tokens = [\"4\",\"13\",\"5\",\"/\",\"+\"]\n",
        "print(evalRPN(tokens))\n",
        "tokens = [\"10\",\"6\",\"9\",\"3\",\"+\",\"-11\",\"*\",\"/\",\"*\",\"17\",\"+\",\"5\",\"+\"]\n",
        "print(evalRPN(tokens))\n"
      ],
      "metadata": {
        "colab": {
          "base_uri": "https://localhost:8080/"
        },
        "id": "7vkS1bdnTskh",
        "outputId": "2dd2268f-bf09-471e-89b5-062ca414c190"
      },
      "execution_count": 20,
      "outputs": [
        {
          "output_type": "stream",
          "name": "stdout",
          "text": [
            "9\n",
            "6\n",
            "22\n"
          ]
        }
      ]
    },
    {
      "cell_type": "markdown",
      "source": [
        "# Sieve of Erastothenes"
      ],
      "metadata": {
        "id": "HEDW3FvRUb-j"
      }
    },
    {
      "cell_type": "code",
      "source": [
        "from math import isqrt\n",
        "def primes_less_than(n):\n",
        "  if n <= 2:\n",
        "    return []\n",
        "  sieve = [True] * n\n",
        "  sieve[0] = sieve[1] = False\n",
        "  for i in range(2, isqrt(n)):\n",
        "    if sieve[i]:\n",
        "      for j in range(i*i, n, i):\n",
        "        sieve[j] = False\n",
        "\n",
        "  return [i for i in range(n) if sieve[i]]\n",
        "print(primes_less_than(100))"
      ],
      "metadata": {
        "colab": {
          "base_uri": "https://localhost:8080/"
        },
        "id": "YwAjqnV4UbJy",
        "outputId": "c1b17850-f93e-4f22-b2f9-e3ea54aff915"
      },
      "execution_count": 23,
      "outputs": [
        {
          "output_type": "stream",
          "name": "stdout",
          "text": [
            "[2, 3, 5, 7, 11, 13, 17, 19, 23, 29, 31, 37, 41, 43, 47, 53, 59, 61, 67, 71, 73, 79, 83, 89, 97]\n"
          ]
        }
      ]
    },
    {
      "cell_type": "code",
      "source": [],
      "metadata": {
        "colab": {
          "base_uri": "https://localhost:8080/"
        },
        "id": "ZDApXusZ23DJ",
        "outputId": "7d959f47-6932-4767-b95c-000126592412"
      },
      "execution_count": 13,
      "outputs": [
        {
          "output_type": "stream",
          "name": "stdout",
          "text": [
            "[5, 7, 9, 11, 11, 13, 13, 15, 17, 17, 17, 19, 19, 19, 21, 23, 23, 23, 25, 25, 25, 27, 29, 29, 29, 29, 31, 31, 31, 31, 33, 35, 35, 35, 37, 37, 37, 37, 37, 39, 41, 41, 41, 41, 41, 43, 43, 43, 43, 43, 45, 47, 47, 47, 47, 47, 49, 49, 49, 49, 49, 51, 53, 53, 53, 53, 53, 53, 55, 55, 55, 57, 59, 59, 59, 59, 59, 59, 61, 61, 61, 61, 61, 61, 63, 65, 65, 65, 67, 67, 67, 67, 67, 67, 67, 69, 71, 71, 71, 71, 71, 71, 71, 73, 73, 73, 73, 73, 73, 73, 75, 77, 77, 77, 77, 77, 79, 79, 79, 79, 79, 79, 79, 81, 83, 83, 83, 83, 83, 83, 83, 83, 85, 85, 85, 87, 89, 89, 89, 89, 89, 89, 89, 89, 91, 91, 91, 91, 91, 93, 95, 95, 95, 97, 97, 97, 97, 97, 97, 97, 97, 99]\n"
          ]
        }
      ]
    },
    {
      "cell_type": "code",
      "source": [],
      "metadata": {
        "colab": {
          "base_uri": "https://localhost:8080/"
        },
        "id": "yoKL4ihv82Oo",
        "outputId": "5ff8f7ea-6f9a-4ccd-81db-734a3baf8139"
      },
      "execution_count": 4,
      "outputs": [
        {
          "output_type": "stream",
          "name": "stdout",
          "text": [
            "3\n",
            "5\n",
            "7\n",
            "9\n"
          ]
        }
      ]
    },
    {
      "cell_type": "code",
      "source": [],
      "metadata": {
        "colab": {
          "base_uri": "https://localhost:8080/"
        },
        "id": "M63lzBDm_iqD",
        "outputId": "33b7cd72-a27d-4eff-82c3-a0c1bddc11ba"
      },
      "execution_count": 18,
      "outputs": [
        {
          "output_type": "stream",
          "name": "stdout",
          "text": [
            "81\n",
            "90\n",
            "99\n"
          ]
        }
      ]
    },
    {
      "cell_type": "code",
      "source": [],
      "metadata": {
        "id": "a03TD461LyFx"
      },
      "execution_count": null,
      "outputs": []
    }
  ]
}